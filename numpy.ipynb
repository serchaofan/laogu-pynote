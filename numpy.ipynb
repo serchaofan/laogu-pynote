{
 "metadata": {
  "language_info": {
   "codemirror_mode": {
    "name": "ipython",
    "version": 3
   },
   "file_extension": ".py",
   "mimetype": "text/x-python",
   "name": "python",
   "nbconvert_exporter": "python",
   "pygments_lexer": "ipython3",
   "version": 3
  },
  "orig_nbformat": 2,
  "kernelspec": {
   "name": "python_defaultSpec_1595822971007",
   "display_name": "Python 3.7.2 64-bit"
  }
 },
 "nbformat": 4,
 "nbformat_minor": 2,
 "cells": [
  {
   "cell_type": "code",
   "execution_count": 1,
   "metadata": {
    "tags": []
   },
   "outputs": [
    {
     "output_type": "stream",
     "name": "stdout",
     "text": "[1 2 3 4]\n"
    }
   ],
   "source": [
    "import numpy as np\n",
    "import pandas\n",
    "\n",
    "arr1 = np.array([1,2,3,4])\n",
    "print(arr1)"
   ]
  },
  {
   "cell_type": "code",
   "execution_count": 2,
   "metadata": {},
   "outputs": [
    {
     "output_type": "execute_result",
     "data": {
      "text/plain": "array([[1, 2, 3],\n       [4, 5, 6]])"
     },
     "metadata": {},
     "execution_count": 2
    }
   ],
   "source": [
    "np.array([[1,2,3],[4,5,6]])"
   ]
  },
  {
   "cell_type": "code",
   "execution_count": 7,
   "metadata": {},
   "outputs": [
    {
     "output_type": "execute_result",
     "data": {
      "text/plain": "array([[0, 1, 2],\n       [6, 7, 8]])"
     },
     "metadata": {},
     "execution_count": 7
    }
   ],
   "source": [
    "np.array([np.arange(3), np.arange(start=6, stop=9)])\n"
   ]
  },
  {
   "cell_type": "code",
   "execution_count": 13,
   "metadata": {},
   "outputs": [
    {
     "output_type": "execute_result",
     "data": {
      "text/plain": "array([[0, 1, 2],\n       [2, 4, 6]])"
     },
     "metadata": {},
     "execution_count": 13
    }
   ],
   "source": [
    "np.array([np.arange(3), np.arange(start=2, step=2, stop=7)])"
   ]
  },
  {
   "cell_type": "code",
   "execution_count": 14,
   "metadata": {},
   "outputs": [
    {
     "output_type": "execute_result",
     "data": {
      "text/plain": "array([[[ 0,  1,  2,  3],\n        [ 4,  5,  6,  7],\n        [ 8,  9, 10, 11]],\n\n       [[12, 13, 14, 15],\n        [16, 17, 18, 19],\n        [20, 21, 22, 23]]])"
     },
     "metadata": {},
     "execution_count": 14
    }
   ],
   "source": [
    "np.arange(24).reshape(2,3,4)"
   ]
  },
  {
   "cell_type": "code",
   "execution_count": 16,
   "metadata": {},
   "outputs": [
    {
     "output_type": "execute_result",
     "data": {
      "text/plain": "array([0., 1., 2., 3., 4.])"
     },
     "metadata": {},
     "execution_count": 16
    }
   ],
   "source": [
    "np.arange(5, dtype=float)"
   ]
  },
  {
   "cell_type": "code",
   "execution_count": 20,
   "metadata": {},
   "outputs": [
    {
     "output_type": "execute_result",
     "data": {
      "text/plain": "array([11, 23, 51], dtype=int8)"
     },
     "metadata": {},
     "execution_count": 20
    }
   ],
   "source": [
    "np.array([11.2,23.22,51.223], dtype='int8')"
   ]
  },
  {
   "cell_type": "code",
   "execution_count": 24,
   "metadata": {},
   "outputs": [
    {
     "output_type": "execute_result",
     "data": {
      "text/plain": "2"
     },
     "metadata": {},
     "execution_count": 24
    }
   ],
   "source": [
    "np.array([[1,2,3],[2,3,4]]).ndim\n",
    "# ndim: 维度"
   ]
  },
  {
   "cell_type": "code",
   "execution_count": 25,
   "metadata": {},
   "outputs": [
    {
     "output_type": "execute_result",
     "data": {
      "text/plain": "(2, 3)"
     },
     "metadata": {},
     "execution_count": 25
    }
   ],
   "source": [
    "np.array([[1,2,3],[2,3,4]]).shape\n",
    "# shape: 尺度--n行m列（n,m），返回一个元组"
   ]
  },
  {
   "cell_type": "code",
   "execution_count": 26,
   "metadata": {},
   "outputs": [
    {
     "output_type": "execute_result",
     "data": {
      "text/plain": "6"
     },
     "metadata": {},
     "execution_count": 26
    }
   ],
   "source": [
    "np.array([[1,2,3],[2,3,4]]).size\n",
    "# size： 元素个数"
   ]
  },
  {
   "cell_type": "code",
   "execution_count": 27,
   "metadata": {},
   "outputs": [
    {
     "output_type": "execute_result",
     "data": {
      "text/plain": "4"
     },
     "metadata": {},
     "execution_count": 27
    }
   ],
   "source": [
    "np.array([[1,2,3],[2,3,4]]).itemsize\n",
    "# itemsize： 各元素的字节数大小"
   ]
  },
  {
   "cell_type": "code",
   "execution_count": 29,
   "metadata": {},
   "outputs": [
    {
     "output_type": "execute_result",
     "data": {
      "text/plain": "24"
     },
     "metadata": {},
     "execution_count": 29
    }
   ],
   "source": [
    "np.array([[1,2,3],[2,3,4]]).nbytes\n",
    "# nbytes： 所有元素的字节数总和"
   ]
  },
  {
   "cell_type": "code",
   "execution_count": 30,
   "metadata": {},
   "outputs": [
    {
     "output_type": "execute_result",
     "data": {
      "text/plain": "array([[1, 2],\n       [2, 3],\n       [3, 4]])"
     },
     "metadata": {},
     "execution_count": 30
    }
   ],
   "source": [
    "np.array([[1,2,3],[2,3,4]]).T\n",
    "# T：转置"
   ]
  },
  {
   "cell_type": "code",
   "execution_count": 39,
   "metadata": {
    "tags": []
   },
   "outputs": [
    {
     "output_type": "stream",
     "name": "stdout",
     "text": "a: [[0 1 2]\n [3 4 5]]\nb: <numpy.flatiter object at 0x000002573B870BE0>\n0\n1\n2\n3\n4\n5\nb[2]: 2\n"
    }
   ],
   "source": [
    "a=np.arange(6).reshape(2,3)\n",
    "print(\"a:\", a)\n",
    "b=a.flat\n",
    "print(\"b:\", b)\n",
    "for i in b:\n",
    "    print(i)\n",
    "print(\"b[2]:\", b[2])"
   ]
  },
  {
   "cell_type": "code",
   "execution_count": 40,
   "metadata": {
    "tags": []
   },
   "outputs": [
    {
     "output_type": "execute_result",
     "data": {
      "text/plain": "array([1, 2, 3])"
     },
     "metadata": {},
     "execution_count": 40
    }
   ],
   "source": [
    "np.arange(5)[1:4]\n",
    "# 切片"
   ]
  },
  {
   "cell_type": "code",
   "execution_count": 58,
   "metadata": {
    "tags": []
   },
   "outputs": [
    {
     "output_type": "stream",
     "name": "stdout",
     "text": "[[ 0  1  2]\n [ 3  4  5]\n [ 6  7  8]\n [ 9 10 11]]\n[[ 0  1  2]\n [ 3  4  5]\n [ 6  7  8]\n [ 9 10 11]]\n"
    }
   ],
   "source": [
    "a = np.arange(12).reshape(3,4)\n",
    "print(a.reshape(4,3))\n",
    "\n",
    "b = np.arange(12).reshape(3,4)\n",
    "b.resize(4,3)\n",
    "print(b)\n",
    "\n",
    "# reshape是临时修改，并不作用于原数组\n",
    "# resize是没有返回值的，而是直接作用于原数组"
   ]
  },
  {
   "cell_type": "code",
   "execution_count": 61,
   "metadata": {
    "tags": []
   },
   "outputs": [
    {
     "output_type": "stream",
     "name": "stdout",
     "text": "[[ 4  7 10]\n [13 16 19]]\n"
    }
   ],
   "source": [
    "a = np.arange(6).reshape(2,3)\n",
    "b = np.arange(start=2, stop=8).reshape(2,3)\n",
    "print(a+2*b)"
   ]
  },
  {
   "cell_type": "code",
   "execution_count": 63,
   "metadata": {},
   "outputs": [
    {
     "output_type": "execute_result",
     "data": {
      "text/plain": "array([[0, 1, 2, 2, 3, 4],\n       [3, 4, 5, 5, 6, 7]])"
     },
     "metadata": {},
     "execution_count": 63
    }
   ],
   "source": [
    "np.hstack((a,b))\n",
    "# 水平叠加"
   ]
  },
  {
   "cell_type": "code",
   "execution_count": 64,
   "metadata": {},
   "outputs": [
    {
     "output_type": "execute_result",
     "data": {
      "text/plain": "array([[0, 1, 2],\n       [3, 4, 5],\n       [2, 3, 4],\n       [5, 6, 7]])"
     },
     "metadata": {},
     "execution_count": 64
    }
   ],
   "source": [
    "np.vstack((a,b))\n",
    "# 垂直叠加"
   ]
  },
  {
   "cell_type": "code",
   "execution_count": 65,
   "metadata": {},
   "outputs": [
    {
     "output_type": "execute_result",
     "data": {
      "text/plain": "array([[0, 1, 2, 2, 3, 4],\n       [3, 4, 5, 5, 6, 7]])"
     },
     "metadata": {},
     "execution_count": 65
    }
   ],
   "source": [
    "np.concatenate((a,b), axis=1)\n",
    "# axis=1 为水平叠加"
   ]
  },
  {
   "cell_type": "code",
   "execution_count": 66,
   "metadata": {},
   "outputs": [
    {
     "output_type": "execute_result",
     "data": {
      "text/plain": "array([[0, 1, 2],\n       [3, 4, 5],\n       [2, 3, 4],\n       [5, 6, 7]])"
     },
     "metadata": {},
     "execution_count": 66
    }
   ],
   "source": [
    "np.concatenate((a,b), axis=0)\n",
    "# axis=0 为垂直叠加"
   ]
  },
  {
   "cell_type": "code",
   "execution_count": null,
   "metadata": {},
   "outputs": [],
   "source": []
  }
 ]
}