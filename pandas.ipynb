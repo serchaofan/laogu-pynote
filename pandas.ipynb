{
 "cells": [
  {
   "cell_type": "code",
   "execution_count": 3,
   "metadata": {},
   "outputs": [],
   "source": [
    "import pandas as pd\n",
    "import numpy as np\n",
    "import matplotlib as plt"
   ]
  },
  {
   "cell_type": "code",
   "execution_count": 11,
   "metadata": {},
   "outputs": [
    {
     "data": {
      "text/plain": [
       "DatetimeIndex(['2020-09-01', '2020-09-02', '2020-09-03', '2020-09-04',\n",
       "               '2020-09-05', '2020-09-06', '2020-09-07', '2020-09-08',\n",
       "               '2020-09-09', '2020-09-10'],\n",
       "              dtype='datetime64[ns]', freq='D')"
      ]
     },
     "execution_count": 11,
     "metadata": {},
     "output_type": "execute_result"
    }
   ],
   "source": [
    "dates = pd.date_range('20200901', periods=10)\n",
    "dates"
   ]
  },
  {
   "cell_type": "markdown",
   "metadata": {},
   "source": [
    "pandas.date_range(start=None, end=None, periods=None, freq=None, tz=None, normalize=False, name=None, closed=None, **kwargs)\n",
    "\n",
    "Parameters\n",
    "    start 生成日期的左端\n",
    "    end 生成日期的右端\n",
    "    periods 天数。start+periods\n",
    "\n",
    "Returns\n",
    "    DatetimeIndex"
   ]
  },
  {
   "cell_type": "code",
   "execution_count": 12,
   "metadata": {
    "scrolled": false
   },
   "outputs": [
    {
     "data": {
      "text/html": [
       "<div>\n",
       "<style scoped>\n",
       "    .dataframe tbody tr th:only-of-type {\n",
       "        vertical-align: middle;\n",
       "    }\n",
       "\n",
       "    .dataframe tbody tr th {\n",
       "        vertical-align: top;\n",
       "    }\n",
       "\n",
       "    .dataframe thead th {\n",
       "        text-align: right;\n",
       "    }\n",
       "</style>\n",
       "<table border=\"1\" class=\"dataframe\">\n",
       "  <thead>\n",
       "    <tr style=\"text-align: right;\">\n",
       "      <th></th>\n",
       "      <th>A</th>\n",
       "      <th>B</th>\n",
       "      <th>C</th>\n",
       "      <th>D</th>\n",
       "    </tr>\n",
       "  </thead>\n",
       "  <tbody>\n",
       "    <tr>\n",
       "      <th>2020-09-01</th>\n",
       "      <td>0.132597</td>\n",
       "      <td>-0.632046</td>\n",
       "      <td>-1.853519</td>\n",
       "      <td>-1.137503</td>\n",
       "    </tr>\n",
       "    <tr>\n",
       "      <th>2020-09-02</th>\n",
       "      <td>-0.092867</td>\n",
       "      <td>0.630690</td>\n",
       "      <td>-1.704587</td>\n",
       "      <td>0.369564</td>\n",
       "    </tr>\n",
       "    <tr>\n",
       "      <th>2020-09-03</th>\n",
       "      <td>-1.218302</td>\n",
       "      <td>0.305480</td>\n",
       "      <td>-0.392584</td>\n",
       "      <td>0.474873</td>\n",
       "    </tr>\n",
       "    <tr>\n",
       "      <th>2020-09-04</th>\n",
       "      <td>-1.078367</td>\n",
       "      <td>0.712087</td>\n",
       "      <td>-1.230490</td>\n",
       "      <td>-1.505200</td>\n",
       "    </tr>\n",
       "    <tr>\n",
       "      <th>2020-09-05</th>\n",
       "      <td>0.092051</td>\n",
       "      <td>-0.839207</td>\n",
       "      <td>0.464028</td>\n",
       "      <td>-0.037818</td>\n",
       "    </tr>\n",
       "    <tr>\n",
       "      <th>2020-09-06</th>\n",
       "      <td>-0.084488</td>\n",
       "      <td>-0.700257</td>\n",
       "      <td>-0.557167</td>\n",
       "      <td>-0.871776</td>\n",
       "    </tr>\n",
       "    <tr>\n",
       "      <th>2020-09-07</th>\n",
       "      <td>-1.026934</td>\n",
       "      <td>-0.618369</td>\n",
       "      <td>0.726561</td>\n",
       "      <td>0.230464</td>\n",
       "    </tr>\n",
       "    <tr>\n",
       "      <th>2020-09-08</th>\n",
       "      <td>-2.141185</td>\n",
       "      <td>-1.052132</td>\n",
       "      <td>-1.300570</td>\n",
       "      <td>1.647077</td>\n",
       "    </tr>\n",
       "    <tr>\n",
       "      <th>2020-09-09</th>\n",
       "      <td>2.588955</td>\n",
       "      <td>-0.561440</td>\n",
       "      <td>-0.481855</td>\n",
       "      <td>-1.079617</td>\n",
       "    </tr>\n",
       "    <tr>\n",
       "      <th>2020-09-10</th>\n",
       "      <td>-0.053322</td>\n",
       "      <td>0.284110</td>\n",
       "      <td>-1.441378</td>\n",
       "      <td>1.699712</td>\n",
       "    </tr>\n",
       "  </tbody>\n",
       "</table>\n",
       "</div>"
      ],
      "text/plain": [
       "                   A         B         C         D\n",
       "2020-09-01  0.132597 -0.632046 -1.853519 -1.137503\n",
       "2020-09-02 -0.092867  0.630690 -1.704587  0.369564\n",
       "2020-09-03 -1.218302  0.305480 -0.392584  0.474873\n",
       "2020-09-04 -1.078367  0.712087 -1.230490 -1.505200\n",
       "2020-09-05  0.092051 -0.839207  0.464028 -0.037818\n",
       "2020-09-06 -0.084488 -0.700257 -0.557167 -0.871776\n",
       "2020-09-07 -1.026934 -0.618369  0.726561  0.230464\n",
       "2020-09-08 -2.141185 -1.052132 -1.300570  1.647077\n",
       "2020-09-09  2.588955 -0.561440 -0.481855 -1.079617\n",
       "2020-09-10 -0.053322  0.284110 -1.441378  1.699712"
      ]
     },
     "execution_count": 12,
     "metadata": {},
     "output_type": "execute_result"
    }
   ],
   "source": [
    "df = pd.DataFrame(np.random.randn(10,4), index=dates, columns=list('ABCD'))\n",
    "df"
   ]
  },
  {
   "cell_type": "markdown",
   "metadata": {},
   "source": [
    "numpy.random.randn(d0, d1, ..., dn)"
   ]
  },
  {
   "cell_type": "code",
   "execution_count": 13,
   "metadata": {},
   "outputs": [
    {
     "data": {
      "text/html": [
       "<div>\n",
       "<style scoped>\n",
       "    .dataframe tbody tr th:only-of-type {\n",
       "        vertical-align: middle;\n",
       "    }\n",
       "\n",
       "    .dataframe tbody tr th {\n",
       "        vertical-align: top;\n",
       "    }\n",
       "\n",
       "    .dataframe thead th {\n",
       "        text-align: right;\n",
       "    }\n",
       "</style>\n",
       "<table border=\"1\" class=\"dataframe\">\n",
       "  <thead>\n",
       "    <tr style=\"text-align: right;\">\n",
       "      <th></th>\n",
       "      <th>A</th>\n",
       "      <th>B</th>\n",
       "      <th>C</th>\n",
       "      <th>D</th>\n",
       "    </tr>\n",
       "  </thead>\n",
       "  <tbody>\n",
       "    <tr>\n",
       "      <th>2020-09-01</th>\n",
       "      <td>0.132597</td>\n",
       "      <td>-0.632046</td>\n",
       "      <td>-1.853519</td>\n",
       "      <td>-1.137503</td>\n",
       "    </tr>\n",
       "    <tr>\n",
       "      <th>2020-09-02</th>\n",
       "      <td>-0.092867</td>\n",
       "      <td>0.630690</td>\n",
       "      <td>-1.704587</td>\n",
       "      <td>0.369564</td>\n",
       "    </tr>\n",
       "    <tr>\n",
       "      <th>2020-09-03</th>\n",
       "      <td>-1.218302</td>\n",
       "      <td>0.305480</td>\n",
       "      <td>-0.392584</td>\n",
       "      <td>0.474873</td>\n",
       "    </tr>\n",
       "    <tr>\n",
       "      <th>2020-09-04</th>\n",
       "      <td>-1.078367</td>\n",
       "      <td>0.712087</td>\n",
       "      <td>-1.230490</td>\n",
       "      <td>-1.505200</td>\n",
       "    </tr>\n",
       "    <tr>\n",
       "      <th>2020-09-05</th>\n",
       "      <td>0.092051</td>\n",
       "      <td>-0.839207</td>\n",
       "      <td>0.464028</td>\n",
       "      <td>-0.037818</td>\n",
       "    </tr>\n",
       "  </tbody>\n",
       "</table>\n",
       "</div>"
      ],
      "text/plain": [
       "                   A         B         C         D\n",
       "2020-09-01  0.132597 -0.632046 -1.853519 -1.137503\n",
       "2020-09-02 -0.092867  0.630690 -1.704587  0.369564\n",
       "2020-09-03 -1.218302  0.305480 -0.392584  0.474873\n",
       "2020-09-04 -1.078367  0.712087 -1.230490 -1.505200\n",
       "2020-09-05  0.092051 -0.839207  0.464028 -0.037818"
      ]
     },
     "execution_count": 13,
     "metadata": {},
     "output_type": "execute_result"
    }
   ],
   "source": [
    "df.head()"
   ]
  },
  {
   "cell_type": "markdown",
   "metadata": {},
   "source": [
    "df.head() 显示开头的5条数据\n",
    "函数也可指定N条数据"
   ]
  },
  {
   "cell_type": "code",
   "execution_count": 15,
   "metadata": {},
   "outputs": [
    {
     "data": {
      "text/html": [
       "<div>\n",
       "<style scoped>\n",
       "    .dataframe tbody tr th:only-of-type {\n",
       "        vertical-align: middle;\n",
       "    }\n",
       "\n",
       "    .dataframe tbody tr th {\n",
       "        vertical-align: top;\n",
       "    }\n",
       "\n",
       "    .dataframe thead th {\n",
       "        text-align: right;\n",
       "    }\n",
       "</style>\n",
       "<table border=\"1\" class=\"dataframe\">\n",
       "  <thead>\n",
       "    <tr style=\"text-align: right;\">\n",
       "      <th></th>\n",
       "      <th>A</th>\n",
       "      <th>B</th>\n",
       "      <th>C</th>\n",
       "      <th>D</th>\n",
       "    </tr>\n",
       "  </thead>\n",
       "  <tbody>\n",
       "    <tr>\n",
       "      <th>2020-09-01</th>\n",
       "      <td>0.132597</td>\n",
       "      <td>-0.632046</td>\n",
       "      <td>-1.853519</td>\n",
       "      <td>-1.137503</td>\n",
       "    </tr>\n",
       "  </tbody>\n",
       "</table>\n",
       "</div>"
      ],
      "text/plain": [
       "                   A         B         C         D\n",
       "2020-09-01  0.132597 -0.632046 -1.853519 -1.137503"
      ]
     },
     "execution_count": 15,
     "metadata": {},
     "output_type": "execute_result"
    }
   ],
   "source": [
    "df.head(1)"
   ]
  },
  {
   "cell_type": "code",
   "execution_count": 14,
   "metadata": {},
   "outputs": [
    {
     "data": {
      "text/html": [
       "<div>\n",
       "<style scoped>\n",
       "    .dataframe tbody tr th:only-of-type {\n",
       "        vertical-align: middle;\n",
       "    }\n",
       "\n",
       "    .dataframe tbody tr th {\n",
       "        vertical-align: top;\n",
       "    }\n",
       "\n",
       "    .dataframe thead th {\n",
       "        text-align: right;\n",
       "    }\n",
       "</style>\n",
       "<table border=\"1\" class=\"dataframe\">\n",
       "  <thead>\n",
       "    <tr style=\"text-align: right;\">\n",
       "      <th></th>\n",
       "      <th>A</th>\n",
       "      <th>B</th>\n",
       "      <th>C</th>\n",
       "      <th>D</th>\n",
       "    </tr>\n",
       "  </thead>\n",
       "  <tbody>\n",
       "    <tr>\n",
       "      <th>2020-09-06</th>\n",
       "      <td>-0.084488</td>\n",
       "      <td>-0.700257</td>\n",
       "      <td>-0.557167</td>\n",
       "      <td>-0.871776</td>\n",
       "    </tr>\n",
       "    <tr>\n",
       "      <th>2020-09-07</th>\n",
       "      <td>-1.026934</td>\n",
       "      <td>-0.618369</td>\n",
       "      <td>0.726561</td>\n",
       "      <td>0.230464</td>\n",
       "    </tr>\n",
       "    <tr>\n",
       "      <th>2020-09-08</th>\n",
       "      <td>-2.141185</td>\n",
       "      <td>-1.052132</td>\n",
       "      <td>-1.300570</td>\n",
       "      <td>1.647077</td>\n",
       "    </tr>\n",
       "    <tr>\n",
       "      <th>2020-09-09</th>\n",
       "      <td>2.588955</td>\n",
       "      <td>-0.561440</td>\n",
       "      <td>-0.481855</td>\n",
       "      <td>-1.079617</td>\n",
       "    </tr>\n",
       "    <tr>\n",
       "      <th>2020-09-10</th>\n",
       "      <td>-0.053322</td>\n",
       "      <td>0.284110</td>\n",
       "      <td>-1.441378</td>\n",
       "      <td>1.699712</td>\n",
       "    </tr>\n",
       "  </tbody>\n",
       "</table>\n",
       "</div>"
      ],
      "text/plain": [
       "                   A         B         C         D\n",
       "2020-09-06 -0.084488 -0.700257 -0.557167 -0.871776\n",
       "2020-09-07 -1.026934 -0.618369  0.726561  0.230464\n",
       "2020-09-08 -2.141185 -1.052132 -1.300570  1.647077\n",
       "2020-09-09  2.588955 -0.561440 -0.481855 -1.079617\n",
       "2020-09-10 -0.053322  0.284110 -1.441378  1.699712"
      ]
     },
     "execution_count": 14,
     "metadata": {},
     "output_type": "execute_result"
    }
   ],
   "source": [
    "df.tail()"
   ]
  },
  {
   "cell_type": "markdown",
   "metadata": {},
   "source": [
    "df.tail() 显示末尾5条数据\n",
    "函数也可指定N条数据"
   ]
  },
  {
   "cell_type": "code",
   "execution_count": 16,
   "metadata": {},
   "outputs": [
    {
     "data": {
      "text/html": [
       "<div>\n",
       "<style scoped>\n",
       "    .dataframe tbody tr th:only-of-type {\n",
       "        vertical-align: middle;\n",
       "    }\n",
       "\n",
       "    .dataframe tbody tr th {\n",
       "        vertical-align: top;\n",
       "    }\n",
       "\n",
       "    .dataframe thead th {\n",
       "        text-align: right;\n",
       "    }\n",
       "</style>\n",
       "<table border=\"1\" class=\"dataframe\">\n",
       "  <thead>\n",
       "    <tr style=\"text-align: right;\">\n",
       "      <th></th>\n",
       "      <th>A</th>\n",
       "      <th>B</th>\n",
       "      <th>C</th>\n",
       "      <th>D</th>\n",
       "    </tr>\n",
       "  </thead>\n",
       "  <tbody>\n",
       "    <tr>\n",
       "      <th>2020-09-10</th>\n",
       "      <td>-0.053322</td>\n",
       "      <td>0.28411</td>\n",
       "      <td>-1.441378</td>\n",
       "      <td>1.699712</td>\n",
       "    </tr>\n",
       "  </tbody>\n",
       "</table>\n",
       "</div>"
      ],
      "text/plain": [
       "                   A        B         C         D\n",
       "2020-09-10 -0.053322  0.28411 -1.441378  1.699712"
      ]
     },
     "execution_count": 16,
     "metadata": {},
     "output_type": "execute_result"
    }
   ],
   "source": [
    "df.tail(1)"
   ]
  },
  {
   "cell_type": "code",
   "execution_count": 17,
   "metadata": {},
   "outputs": [
    {
     "data": {
      "text/plain": [
       "DatetimeIndex(['2020-09-01', '2020-09-02', '2020-09-03', '2020-09-04',\n",
       "               '2020-09-05', '2020-09-06', '2020-09-07', '2020-09-08',\n",
       "               '2020-09-09', '2020-09-10'],\n",
       "              dtype='datetime64[ns]', freq='D')"
      ]
     },
     "execution_count": 17,
     "metadata": {},
     "output_type": "execute_result"
    }
   ],
   "source": [
    "df.index"
   ]
  },
  {
   "cell_type": "markdown",
   "metadata": {},
   "source": [
    "df.index 显示索引"
   ]
  },
  {
   "cell_type": "code",
   "execution_count": 18,
   "metadata": {},
   "outputs": [
    {
     "data": {
      "text/plain": [
       "Index(['A', 'B', 'C', 'D'], dtype='object')"
      ]
     },
     "execution_count": 18,
     "metadata": {},
     "output_type": "execute_result"
    }
   ],
   "source": [
    "df.columns"
   ]
  },
  {
   "cell_type": "markdown",
   "metadata": {},
   "source": [
    "df.columns 显示列"
   ]
  },
  {
   "cell_type": "code",
   "execution_count": 19,
   "metadata": {
    "scrolled": true
   },
   "outputs": [
    {
     "data": {
      "text/plain": [
       "array([[ 0.13259744, -0.63204564, -1.8535189 , -1.13750334],\n",
       "       [-0.09286683,  0.63069013, -1.7045869 ,  0.36956394],\n",
       "       [-1.21830213,  0.30547974, -0.39258421,  0.47487325],\n",
       "       [-1.07836661,  0.71208732, -1.23048965, -1.50519956],\n",
       "       [ 0.09205078, -0.83920709,  0.46402817, -0.03781812],\n",
       "       [-0.08448815, -0.70025706, -0.55716697, -0.87177637],\n",
       "       [-1.02693356, -0.6183694 ,  0.72656131,  0.23046376],\n",
       "       [-2.14118502, -1.05213246, -1.30057023,  1.64707689],\n",
       "       [ 2.58895545, -0.56144017, -0.48185501, -1.07961734],\n",
       "       [-0.05332171,  0.28411022, -1.4413784 ,  1.69971244]])"
      ]
     },
     "execution_count": 19,
     "metadata": {},
     "output_type": "execute_result"
    }
   ],
   "source": [
    "df.values"
   ]
  },
  {
   "cell_type": "markdown",
   "metadata": {},
   "source": [
    "df.values 显示值"
   ]
  },
  {
   "cell_type": "code",
   "execution_count": 20,
   "metadata": {},
   "outputs": [
    {
     "data": {
      "text/html": [
       "<div>\n",
       "<style scoped>\n",
       "    .dataframe tbody tr th:only-of-type {\n",
       "        vertical-align: middle;\n",
       "    }\n",
       "\n",
       "    .dataframe tbody tr th {\n",
       "        vertical-align: top;\n",
       "    }\n",
       "\n",
       "    .dataframe thead th {\n",
       "        text-align: right;\n",
       "    }\n",
       "</style>\n",
       "<table border=\"1\" class=\"dataframe\">\n",
       "  <thead>\n",
       "    <tr style=\"text-align: right;\">\n",
       "      <th></th>\n",
       "      <th>A</th>\n",
       "      <th>B</th>\n",
       "      <th>C</th>\n",
       "      <th>D</th>\n",
       "    </tr>\n",
       "  </thead>\n",
       "  <tbody>\n",
       "    <tr>\n",
       "      <th>count</th>\n",
       "      <td>10.000000</td>\n",
       "      <td>10.000000</td>\n",
       "      <td>10.000000</td>\n",
       "      <td>10.000000</td>\n",
       "    </tr>\n",
       "    <tr>\n",
       "      <th>mean</th>\n",
       "      <td>-0.288186</td>\n",
       "      <td>-0.247108</td>\n",
       "      <td>-0.777156</td>\n",
       "      <td>-0.021022</td>\n",
       "    </tr>\n",
       "    <tr>\n",
       "      <th>std</th>\n",
       "      <td>1.256240</td>\n",
       "      <td>0.655484</td>\n",
       "      <td>0.883462</td>\n",
       "      <td>1.130349</td>\n",
       "    </tr>\n",
       "    <tr>\n",
       "      <th>min</th>\n",
       "      <td>-2.141185</td>\n",
       "      <td>-1.052132</td>\n",
       "      <td>-1.853519</td>\n",
       "      <td>-1.505200</td>\n",
       "    </tr>\n",
       "    <tr>\n",
       "      <th>25%</th>\n",
       "      <td>-1.065508</td>\n",
       "      <td>-0.683204</td>\n",
       "      <td>-1.406176</td>\n",
       "      <td>-1.027657</td>\n",
       "    </tr>\n",
       "    <tr>\n",
       "      <th>50%</th>\n",
       "      <td>-0.088677</td>\n",
       "      <td>-0.589905</td>\n",
       "      <td>-0.893828</td>\n",
       "      <td>0.096323</td>\n",
       "    </tr>\n",
       "    <tr>\n",
       "      <th>75%</th>\n",
       "      <td>0.055708</td>\n",
       "      <td>0.300137</td>\n",
       "      <td>-0.414902</td>\n",
       "      <td>0.448546</td>\n",
       "    </tr>\n",
       "    <tr>\n",
       "      <th>max</th>\n",
       "      <td>2.588955</td>\n",
       "      <td>0.712087</td>\n",
       "      <td>0.726561</td>\n",
       "      <td>1.699712</td>\n",
       "    </tr>\n",
       "  </tbody>\n",
       "</table>\n",
       "</div>"
      ],
      "text/plain": [
       "               A          B          C          D\n",
       "count  10.000000  10.000000  10.000000  10.000000\n",
       "mean   -0.288186  -0.247108  -0.777156  -0.021022\n",
       "std     1.256240   0.655484   0.883462   1.130349\n",
       "min    -2.141185  -1.052132  -1.853519  -1.505200\n",
       "25%    -1.065508  -0.683204  -1.406176  -1.027657\n",
       "50%    -0.088677  -0.589905  -0.893828   0.096323\n",
       "75%     0.055708   0.300137  -0.414902   0.448546\n",
       "max     2.588955   0.712087   0.726561   1.699712"
      ]
     },
     "execution_count": 20,
     "metadata": {},
     "output_type": "execute_result"
    }
   ],
   "source": [
    "df.describe()"
   ]
  },
  {
   "cell_type": "markdown",
   "metadata": {},
   "source": [
    "df.describe()  快速统计汇总数据"
   ]
  },
  {
   "cell_type": "code",
   "execution_count": 21,
   "metadata": {},
   "outputs": [
    {
     "data": {
      "text/html": [
       "<div>\n",
       "<style scoped>\n",
       "    .dataframe tbody tr th:only-of-type {\n",
       "        vertical-align: middle;\n",
       "    }\n",
       "\n",
       "    .dataframe tbody tr th {\n",
       "        vertical-align: top;\n",
       "    }\n",
       "\n",
       "    .dataframe thead th {\n",
       "        text-align: right;\n",
       "    }\n",
       "</style>\n",
       "<table border=\"1\" class=\"dataframe\">\n",
       "  <thead>\n",
       "    <tr style=\"text-align: right;\">\n",
       "      <th></th>\n",
       "      <th>2020-09-01</th>\n",
       "      <th>2020-09-02</th>\n",
       "      <th>2020-09-03</th>\n",
       "      <th>2020-09-04</th>\n",
       "      <th>2020-09-05</th>\n",
       "      <th>2020-09-06</th>\n",
       "      <th>2020-09-07</th>\n",
       "      <th>2020-09-08</th>\n",
       "      <th>2020-09-09</th>\n",
       "      <th>2020-09-10</th>\n",
       "    </tr>\n",
       "  </thead>\n",
       "  <tbody>\n",
       "    <tr>\n",
       "      <th>A</th>\n",
       "      <td>0.132597</td>\n",
       "      <td>-0.092867</td>\n",
       "      <td>-1.218302</td>\n",
       "      <td>-1.078367</td>\n",
       "      <td>0.092051</td>\n",
       "      <td>-0.084488</td>\n",
       "      <td>-1.026934</td>\n",
       "      <td>-2.141185</td>\n",
       "      <td>2.588955</td>\n",
       "      <td>-0.053322</td>\n",
       "    </tr>\n",
       "    <tr>\n",
       "      <th>B</th>\n",
       "      <td>-0.632046</td>\n",
       "      <td>0.630690</td>\n",
       "      <td>0.305480</td>\n",
       "      <td>0.712087</td>\n",
       "      <td>-0.839207</td>\n",
       "      <td>-0.700257</td>\n",
       "      <td>-0.618369</td>\n",
       "      <td>-1.052132</td>\n",
       "      <td>-0.561440</td>\n",
       "      <td>0.284110</td>\n",
       "    </tr>\n",
       "    <tr>\n",
       "      <th>C</th>\n",
       "      <td>-1.853519</td>\n",
       "      <td>-1.704587</td>\n",
       "      <td>-0.392584</td>\n",
       "      <td>-1.230490</td>\n",
       "      <td>0.464028</td>\n",
       "      <td>-0.557167</td>\n",
       "      <td>0.726561</td>\n",
       "      <td>-1.300570</td>\n",
       "      <td>-0.481855</td>\n",
       "      <td>-1.441378</td>\n",
       "    </tr>\n",
       "    <tr>\n",
       "      <th>D</th>\n",
       "      <td>-1.137503</td>\n",
       "      <td>0.369564</td>\n",
       "      <td>0.474873</td>\n",
       "      <td>-1.505200</td>\n",
       "      <td>-0.037818</td>\n",
       "      <td>-0.871776</td>\n",
       "      <td>0.230464</td>\n",
       "      <td>1.647077</td>\n",
       "      <td>-1.079617</td>\n",
       "      <td>1.699712</td>\n",
       "    </tr>\n",
       "  </tbody>\n",
       "</table>\n",
       "</div>"
      ],
      "text/plain": [
       "   2020-09-01  2020-09-02  2020-09-03  2020-09-04  2020-09-05  2020-09-06  \\\n",
       "A    0.132597   -0.092867   -1.218302   -1.078367    0.092051   -0.084488   \n",
       "B   -0.632046    0.630690    0.305480    0.712087   -0.839207   -0.700257   \n",
       "C   -1.853519   -1.704587   -0.392584   -1.230490    0.464028   -0.557167   \n",
       "D   -1.137503    0.369564    0.474873   -1.505200   -0.037818   -0.871776   \n",
       "\n",
       "   2020-09-07  2020-09-08  2020-09-09  2020-09-10  \n",
       "A   -1.026934   -2.141185    2.588955   -0.053322  \n",
       "B   -0.618369   -1.052132   -0.561440    0.284110  \n",
       "C    0.726561   -1.300570   -0.481855   -1.441378  \n",
       "D    0.230464    1.647077   -1.079617    1.699712  "
      ]
     },
     "execution_count": 21,
     "metadata": {},
     "output_type": "execute_result"
    }
   ],
   "source": [
    "df.T"
   ]
  },
  {
   "cell_type": "markdown",
   "metadata": {},
   "source": [
    "df.T 对数据转置"
   ]
  },
  {
   "cell_type": "code",
   "execution_count": 26,
   "metadata": {},
   "outputs": [
    {
     "data": {
      "text/html": [
       "<div>\n",
       "<style scoped>\n",
       "    .dataframe tbody tr th:only-of-type {\n",
       "        vertical-align: middle;\n",
       "    }\n",
       "\n",
       "    .dataframe tbody tr th {\n",
       "        vertical-align: top;\n",
       "    }\n",
       "\n",
       "    .dataframe thead th {\n",
       "        text-align: right;\n",
       "    }\n",
       "</style>\n",
       "<table border=\"1\" class=\"dataframe\">\n",
       "  <thead>\n",
       "    <tr style=\"text-align: right;\">\n",
       "      <th></th>\n",
       "      <th>A</th>\n",
       "      <th>B</th>\n",
       "      <th>C</th>\n",
       "      <th>D</th>\n",
       "    </tr>\n",
       "  </thead>\n",
       "  <tbody>\n",
       "    <tr>\n",
       "      <th>2020-09-01</th>\n",
       "      <td>0.132597</td>\n",
       "      <td>-0.632046</td>\n",
       "      <td>-1.853519</td>\n",
       "      <td>-1.137503</td>\n",
       "    </tr>\n",
       "    <tr>\n",
       "      <th>2020-09-02</th>\n",
       "      <td>-0.092867</td>\n",
       "      <td>0.630690</td>\n",
       "      <td>-1.704587</td>\n",
       "      <td>0.369564</td>\n",
       "    </tr>\n",
       "    <tr>\n",
       "      <th>2020-09-03</th>\n",
       "      <td>-1.218302</td>\n",
       "      <td>0.305480</td>\n",
       "      <td>-0.392584</td>\n",
       "      <td>0.474873</td>\n",
       "    </tr>\n",
       "    <tr>\n",
       "      <th>2020-09-04</th>\n",
       "      <td>-1.078367</td>\n",
       "      <td>0.712087</td>\n",
       "      <td>-1.230490</td>\n",
       "      <td>-1.505200</td>\n",
       "    </tr>\n",
       "    <tr>\n",
       "      <th>2020-09-05</th>\n",
       "      <td>0.092051</td>\n",
       "      <td>-0.839207</td>\n",
       "      <td>0.464028</td>\n",
       "      <td>-0.037818</td>\n",
       "    </tr>\n",
       "    <tr>\n",
       "      <th>2020-09-06</th>\n",
       "      <td>-0.084488</td>\n",
       "      <td>-0.700257</td>\n",
       "      <td>-0.557167</td>\n",
       "      <td>-0.871776</td>\n",
       "    </tr>\n",
       "    <tr>\n",
       "      <th>2020-09-07</th>\n",
       "      <td>-1.026934</td>\n",
       "      <td>-0.618369</td>\n",
       "      <td>0.726561</td>\n",
       "      <td>0.230464</td>\n",
       "    </tr>\n",
       "    <tr>\n",
       "      <th>2020-09-08</th>\n",
       "      <td>-2.141185</td>\n",
       "      <td>-1.052132</td>\n",
       "      <td>-1.300570</td>\n",
       "      <td>1.647077</td>\n",
       "    </tr>\n",
       "    <tr>\n",
       "      <th>2020-09-09</th>\n",
       "      <td>2.588955</td>\n",
       "      <td>-0.561440</td>\n",
       "      <td>-0.481855</td>\n",
       "      <td>-1.079617</td>\n",
       "    </tr>\n",
       "    <tr>\n",
       "      <th>2020-09-10</th>\n",
       "      <td>-0.053322</td>\n",
       "      <td>0.284110</td>\n",
       "      <td>-1.441378</td>\n",
       "      <td>1.699712</td>\n",
       "    </tr>\n",
       "  </tbody>\n",
       "</table>\n",
       "</div>"
      ],
      "text/plain": [
       "                   A         B         C         D\n",
       "2020-09-01  0.132597 -0.632046 -1.853519 -1.137503\n",
       "2020-09-02 -0.092867  0.630690 -1.704587  0.369564\n",
       "2020-09-03 -1.218302  0.305480 -0.392584  0.474873\n",
       "2020-09-04 -1.078367  0.712087 -1.230490 -1.505200\n",
       "2020-09-05  0.092051 -0.839207  0.464028 -0.037818\n",
       "2020-09-06 -0.084488 -0.700257 -0.557167 -0.871776\n",
       "2020-09-07 -1.026934 -0.618369  0.726561  0.230464\n",
       "2020-09-08 -2.141185 -1.052132 -1.300570  1.647077\n",
       "2020-09-09  2.588955 -0.561440 -0.481855 -1.079617\n",
       "2020-09-10 -0.053322  0.284110 -1.441378  1.699712"
      ]
     },
     "execution_count": 26,
     "metadata": {},
     "output_type": "execute_result"
    }
   ],
   "source": [
    "df.sort_index(axis=1)"
   ]
  },
  {
   "cell_type": "markdown",
   "metadata": {},
   "source": [
    "df.sort_index 按轴进行排序\n",
    "axis = 0 为纵轴\n",
    "axis = 1 为横轴\n",
    "默认为升序，若要降序，则添加参数 ascending=False"
   ]
  },
  {
   "cell_type": "code",
   "execution_count": 27,
   "metadata": {},
   "outputs": [
    {
     "data": {
      "text/html": [
       "<div>\n",
       "<style scoped>\n",
       "    .dataframe tbody tr th:only-of-type {\n",
       "        vertical-align: middle;\n",
       "    }\n",
       "\n",
       "    .dataframe tbody tr th {\n",
       "        vertical-align: top;\n",
       "    }\n",
       "\n",
       "    .dataframe thead th {\n",
       "        text-align: right;\n",
       "    }\n",
       "</style>\n",
       "<table border=\"1\" class=\"dataframe\">\n",
       "  <thead>\n",
       "    <tr style=\"text-align: right;\">\n",
       "      <th></th>\n",
       "      <th>A</th>\n",
       "      <th>B</th>\n",
       "      <th>C</th>\n",
       "      <th>D</th>\n",
       "    </tr>\n",
       "  </thead>\n",
       "  <tbody>\n",
       "    <tr>\n",
       "      <th>2020-09-08</th>\n",
       "      <td>-2.141185</td>\n",
       "      <td>-1.052132</td>\n",
       "      <td>-1.300570</td>\n",
       "      <td>1.647077</td>\n",
       "    </tr>\n",
       "    <tr>\n",
       "      <th>2020-09-05</th>\n",
       "      <td>0.092051</td>\n",
       "      <td>-0.839207</td>\n",
       "      <td>0.464028</td>\n",
       "      <td>-0.037818</td>\n",
       "    </tr>\n",
       "    <tr>\n",
       "      <th>2020-09-06</th>\n",
       "      <td>-0.084488</td>\n",
       "      <td>-0.700257</td>\n",
       "      <td>-0.557167</td>\n",
       "      <td>-0.871776</td>\n",
       "    </tr>\n",
       "    <tr>\n",
       "      <th>2020-09-01</th>\n",
       "      <td>0.132597</td>\n",
       "      <td>-0.632046</td>\n",
       "      <td>-1.853519</td>\n",
       "      <td>-1.137503</td>\n",
       "    </tr>\n",
       "    <tr>\n",
       "      <th>2020-09-07</th>\n",
       "      <td>-1.026934</td>\n",
       "      <td>-0.618369</td>\n",
       "      <td>0.726561</td>\n",
       "      <td>0.230464</td>\n",
       "    </tr>\n",
       "    <tr>\n",
       "      <th>2020-09-09</th>\n",
       "      <td>2.588955</td>\n",
       "      <td>-0.561440</td>\n",
       "      <td>-0.481855</td>\n",
       "      <td>-1.079617</td>\n",
       "    </tr>\n",
       "    <tr>\n",
       "      <th>2020-09-10</th>\n",
       "      <td>-0.053322</td>\n",
       "      <td>0.284110</td>\n",
       "      <td>-1.441378</td>\n",
       "      <td>1.699712</td>\n",
       "    </tr>\n",
       "    <tr>\n",
       "      <th>2020-09-03</th>\n",
       "      <td>-1.218302</td>\n",
       "      <td>0.305480</td>\n",
       "      <td>-0.392584</td>\n",
       "      <td>0.474873</td>\n",
       "    </tr>\n",
       "    <tr>\n",
       "      <th>2020-09-02</th>\n",
       "      <td>-0.092867</td>\n",
       "      <td>0.630690</td>\n",
       "      <td>-1.704587</td>\n",
       "      <td>0.369564</td>\n",
       "    </tr>\n",
       "    <tr>\n",
       "      <th>2020-09-04</th>\n",
       "      <td>-1.078367</td>\n",
       "      <td>0.712087</td>\n",
       "      <td>-1.230490</td>\n",
       "      <td>-1.505200</td>\n",
       "    </tr>\n",
       "  </tbody>\n",
       "</table>\n",
       "</div>"
      ],
      "text/plain": [
       "                   A         B         C         D\n",
       "2020-09-08 -2.141185 -1.052132 -1.300570  1.647077\n",
       "2020-09-05  0.092051 -0.839207  0.464028 -0.037818\n",
       "2020-09-06 -0.084488 -0.700257 -0.557167 -0.871776\n",
       "2020-09-01  0.132597 -0.632046 -1.853519 -1.137503\n",
       "2020-09-07 -1.026934 -0.618369  0.726561  0.230464\n",
       "2020-09-09  2.588955 -0.561440 -0.481855 -1.079617\n",
       "2020-09-10 -0.053322  0.284110 -1.441378  1.699712\n",
       "2020-09-03 -1.218302  0.305480 -0.392584  0.474873\n",
       "2020-09-02 -0.092867  0.630690 -1.704587  0.369564\n",
       "2020-09-04 -1.078367  0.712087 -1.230490 -1.505200"
      ]
     },
     "execution_count": 27,
     "metadata": {},
     "output_type": "execute_result"
    }
   ],
   "source": [
    "df.sort_values(by='B')"
   ]
  },
  {
   "cell_type": "markdown",
   "metadata": {},
   "source": [
    "df.sort_values  按值排序\n",
    "by 参数指定列\n",
    "默认升序"
   ]
  },
  {
   "cell_type": "code",
   "execution_count": 7,
   "metadata": {},
   "outputs": [
    {
     "data": {
      "text/html": [
       "<div>\n",
       "<style scoped>\n",
       "    .dataframe tbody tr th:only-of-type {\n",
       "        vertical-align: middle;\n",
       "    }\n",
       "\n",
       "    .dataframe tbody tr th {\n",
       "        vertical-align: top;\n",
       "    }\n",
       "\n",
       "    .dataframe thead th {\n",
       "        text-align: right;\n",
       "    }\n",
       "</style>\n",
       "<table border=\"1\" class=\"dataframe\">\n",
       "  <thead>\n",
       "    <tr style=\"text-align: right;\">\n",
       "      <th></th>\n",
       "      <th>A</th>\n",
       "      <th>B</th>\n",
       "      <th>C</th>\n",
       "      <th>D</th>\n",
       "      <th>E</th>\n",
       "      <th>F</th>\n",
       "    </tr>\n",
       "  </thead>\n",
       "  <tbody>\n",
       "    <tr>\n",
       "      <th>0</th>\n",
       "      <td>1.0</td>\n",
       "      <td>2020-08-02</td>\n",
       "      <td>1.0</td>\n",
       "      <td>3</td>\n",
       "      <td>test</td>\n",
       "      <td>foo</td>\n",
       "    </tr>\n",
       "    <tr>\n",
       "      <th>1</th>\n",
       "      <td>1.0</td>\n",
       "      <td>2020-08-02</td>\n",
       "      <td>1.0</td>\n",
       "      <td>3</td>\n",
       "      <td>train</td>\n",
       "      <td>foo</td>\n",
       "    </tr>\n",
       "    <tr>\n",
       "      <th>2</th>\n",
       "      <td>1.0</td>\n",
       "      <td>2020-08-02</td>\n",
       "      <td>1.0</td>\n",
       "      <td>3</td>\n",
       "      <td>test</td>\n",
       "      <td>foo</td>\n",
       "    </tr>\n",
       "    <tr>\n",
       "      <th>3</th>\n",
       "      <td>1.0</td>\n",
       "      <td>2020-08-02</td>\n",
       "      <td>1.0</td>\n",
       "      <td>3</td>\n",
       "      <td>train</td>\n",
       "      <td>foo</td>\n",
       "    </tr>\n",
       "  </tbody>\n",
       "</table>\n",
       "</div>"
      ],
      "text/plain": [
       "     A          B    C  D      E    F\n",
       "0  1.0 2020-08-02  1.0  3   test  foo\n",
       "1  1.0 2020-08-02  1.0  3  train  foo\n",
       "2  1.0 2020-08-02  1.0  3   test  foo\n",
       "3  1.0 2020-08-02  1.0  3  train  foo"
      ]
     },
     "execution_count": 7,
     "metadata": {},
     "output_type": "execute_result"
    }
   ],
   "source": [
    "df2 = pd.DataFrame({\n",
    "    'A': 1.,\n",
    "    'B': pd.Timestamp('20200802'),\n",
    "    'C': pd.Series(1, index=list(range(4)), dtype='float32'),\n",
    "    'D': np.array([3]*4, dtype='int32'),\n",
    "    'E': pd.Categorical(['test', 'train', 'test', 'train']),\n",
    "    'F': 'foo'\n",
    "})\n",
    "df2"
   ]
  },
  {
   "cell_type": "code",
   "execution_count": 8,
   "metadata": {},
   "outputs": [
    {
     "data": {
      "text/plain": [
       "A           float64\n",
       "B    datetime64[ns]\n",
       "C           float32\n",
       "D             int32\n",
       "E          category\n",
       "F            object\n",
       "dtype: object"
      ]
     },
     "execution_count": 8,
     "metadata": {},
     "output_type": "execute_result"
    }
   ],
   "source": [
    "df2.dtypes"
   ]
  },
  {
   "cell_type": "code",
   "execution_count": null,
   "metadata": {},
   "outputs": [],
   "source": []
  }
 ],
 "metadata": {
  "kernelspec": {
   "display_name": "Python 3",
   "language": "python",
   "name": "python3"
  },
  "language_info": {
   "codemirror_mode": {
    "name": "ipython",
    "version": 3
   },
   "file_extension": ".py",
   "mimetype": "text/x-python",
   "name": "python",
   "nbconvert_exporter": "python",
   "pygments_lexer": "ipython3",
   "version": "3.8.5"
  }
 },
 "nbformat": 4,
 "nbformat_minor": 4
}
